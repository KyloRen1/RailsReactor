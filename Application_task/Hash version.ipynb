{
 "cells": [
  {
   "cell_type": "code",
   "execution_count": 1,
   "metadata": {},
   "outputs": [],
   "source": [
    "import time\n",
    "start_global = time.time()\n",
    "from PIL import Image\n",
    "import os, os.path\n",
    "import numpy as np\n",
    "import matplotlib.pyplot as plt\n",
    "from skimage.measure import compare_ssim as ssim\n",
    "import math"
   ]
  },
  {
   "cell_type": "markdown",
   "metadata": {},
   "source": [
    "# Read images files"
   ]
  },
  {
   "cell_type": "code",
   "execution_count": 2,
   "metadata": {},
   "outputs": [],
   "source": [
    "def diff(h1, h2):\n",
    "    return sum([bin(int(a, 16) ^ int(b, 16)).count('1') for a, b in zip(h1, h2)])"
   ]
  },
  {
   "cell_type": "code",
   "execution_count": 3,
   "metadata": {},
   "outputs": [],
   "source": [
    "# hash size 9 - previos, good for test dataset\n",
    "def dhash(image, hash_size = 9):\n",
    "    # scaling and grayscaling\n",
    "    image = image.convert('L').resize((hash_size + 1, hash_size), Image.ANTIALIAS)\n",
    "    pixels = list(image.getdata())\n",
    "    avg_pixel = sum(pixels)/len(pixels) # calculates average pixel value\n",
    "    median_pixel = np.median(np.array(pixels)) # calculates median pixel value\n",
    "    # calculate differences\n",
    "    diff_map = []\n",
    "    for row in range(hash_size):\n",
    "        for col in range(hash_size):\n",
    "            #diff_map.append(image.getpixel((col, row)) > image.getpixel((col + 1, row)))\n",
    "            #diff_map.append(image.getpixel((col, row)) >= avg_pixel) \n",
    "            diff_map.append(image.getpixel((col, row)) >= float(median_pixel)) #detects 4\n",
    "    # build hex string\n",
    "    return hex(sum(2**i*b for i, b in enumerate(reversed(diff_map))))[2:-1]"
   ]
  },
  {
   "cell_type": "code",
   "execution_count": 4,
   "metadata": {
    "scrolled": false
   },
   "outputs": [],
   "source": [
    "# detect all pictures\n",
    "pictures = []\n",
    "os.chdir(\".\")\n",
    "for f in os.listdir(\".\"):\n",
    "    if f.endswith('.jpg'):\n",
    "        pictures.append(f)\n",
    "\n",
    "xlabels = []        \n",
    "for i in range(len(pictures)):\n",
    "    image1 = Image.open(pictures[i])\n",
    "    h1 = dhash(image1)\n",
    "    #print(i)\n",
    "    for j in range(i+1, len(pictures)):\n",
    "        image2 = Image.open(pictures[j])\n",
    "        h2 = dhash(image2)\n",
    "        #print(pictures[i], pictures[j], diff(h1, h2))\n",
    "        if diff(h1, h2) <= 10: # for 9\n",
    "            xlabels.append((pictures[j], pictures[i]))\n",
    "            #print(pictures[i],h1, pictures[j], h2, diff(h1, h2))"
   ]
  },
  {
   "cell_type": "code",
   "execution_count": 5,
   "metadata": {
    "scrolled": false
   },
   "outputs": [
    {
     "name": "stdout",
     "output_type": "stream",
     "text": [
      "7\n"
     ]
    },
    {
     "data": {
      "text/plain": [
       "[('11.jpg', '11_duplicate.jpg'),\n",
       " ('11_modification.jpg', '11_duplicate.jpg'),\n",
       " ('6.jpg', '6_similar.jpg'),\n",
       " ('15_modification.jpg', '15.jpg'),\n",
       " ('11_modification.jpg', '11.jpg'),\n",
       " ('4_similar.jpg', '4.jpg'),\n",
       " ('1_duplicate.jpg', '1.jpg')]"
      ]
     },
     "execution_count": 5,
     "metadata": {},
     "output_type": "execute_result"
    }
   ],
   "source": [
    "print(len(xlabels))\n",
    "xlabels"
   ]
  },
  {
   "cell_type": "code",
   "execution_count": null,
   "metadata": {},
   "outputs": [],
   "source": []
  }
 ],
 "metadata": {
  "kernelspec": {
   "display_name": "Python 3",
   "language": "python",
   "name": "python3"
  },
  "language_info": {
   "codemirror_mode": {
    "name": "ipython",
    "version": 3
   },
   "file_extension": ".py",
   "mimetype": "text/x-python",
   "name": "python",
   "nbconvert_exporter": "python",
   "pygments_lexer": "ipython3",
   "version": "3.7.3"
  }
 },
 "nbformat": 4,
 "nbformat_minor": 2
}
