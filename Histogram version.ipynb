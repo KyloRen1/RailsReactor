{
 "cells": [
  {
   "cell_type": "code",
   "execution_count": 1,
   "metadata": {},
   "outputs": [],
   "source": [
    "import time\n",
    "start = time.time()\n",
    "from PIL import Image\n",
    "import os, os.path\n",
    "import numpy as np\n",
    "import matplotlib.pyplot as plt\n",
    "import math"
   ]
  },
  {
   "cell_type": "code",
   "execution_count": 2,
   "metadata": {},
   "outputs": [],
   "source": [
    "pictures = []\n",
    "picture_representation = []\n",
    "for f in os.listdir(\".\"):\n",
    "    if f.endswith('.jpg'):\n",
    "        pictures.append(f)\n",
    "        picture_representation.append(Image.open(f).convert('L').resize((256, 256)))"
   ]
  },
  {
   "cell_type": "code",
   "execution_count": 3,
   "metadata": {},
   "outputs": [],
   "source": [
    "def return_intersection(hist_1, hist_2):\n",
    "    minima = np.minimum(hist_1, hist_2)\n",
    "    intersection = np.true_divide(np.sum(minima), np.sum(hist_2))\n",
    "    return intersection"
   ]
  },
  {
   "cell_type": "code",
   "execution_count": 4,
   "metadata": {
    "scrolled": false
   },
   "outputs": [],
   "source": [
    "xlabels = []        \n",
    "for i in range(len(pictures)):\n",
    "    #print('========='*5)\n",
    "    hist_1 = np.histogram(list(picture_representation[i].getdata()), bins=255, range=[0, 255])\n",
    "    for j in range(i+1, len(pictures)):\n",
    "        hist_2 = np.histogram(list(picture_representation[j].getdata()), bins=255, range=[0, 255])\n",
    "        #print(pictures[i], pictures[j], return_intersection(hist_1[0], hist_2[0]))\n",
    "        if return_intersection(hist_1[0], hist_2[0]) >= 0.85: \n",
    "            xlabels.append((pictures[j], pictures[i]))\n",
    "            #print(pictures[i],pictures[j], return_intersection(hist_1[0], hist_2[0]))"
   ]
  },
  {
   "cell_type": "code",
   "execution_count": 5,
   "metadata": {},
   "outputs": [
    {
     "name": "stdout",
     "output_type": "stream",
     "text": [
      "5.771800756454468\n",
      "7\n"
     ]
    },
    {
     "data": {
      "text/plain": [
       "[('11.jpg', '11_duplicate.jpg'),\n",
       " ('11_modification.jpg', '11_duplicate.jpg'),\n",
       " ('6.jpg', '6_similar.jpg'),\n",
       " ('15_modification.jpg', '15.jpg'),\n",
       " ('11_modification.jpg', '11.jpg'),\n",
       " ('4_similar.jpg', '4.jpg'),\n",
       " ('1_duplicate.jpg', '1.jpg')]"
      ]
     },
     "execution_count": 5,
     "metadata": {},
     "output_type": "execute_result"
    }
   ],
   "source": [
    "print(time.time() - start)\n",
    "print(len(xlabels))\n",
    "xlabels"
   ]
  },
  {
   "cell_type": "code",
   "execution_count": null,
   "metadata": {},
   "outputs": [],
   "source": []
  }
 ],
 "metadata": {
  "kernelspec": {
   "display_name": "Python 3",
   "language": "python",
   "name": "python3"
  },
  "language_info": {
   "codemirror_mode": {
    "name": "ipython",
    "version": 3
   },
   "file_extension": ".py",
   "mimetype": "text/x-python",
   "name": "python",
   "nbconvert_exporter": "python",
   "pygments_lexer": "ipython3",
   "version": "3.7.3"
  }
 },
 "nbformat": 4,
 "nbformat_minor": 2
}
